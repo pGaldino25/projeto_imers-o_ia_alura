{
  "nbformat": 4,
  "nbformat_minor": 0,
  "metadata": {
    "colab": {
      "provenance": [],
      "authorship_tag": "ABX9TyN6wti0f8zmI6Yt/OZ26+Ml",
      "include_colab_link": true
    },
    "kernelspec": {
      "name": "python3",
      "display_name": "Python 3"
    },
    "language_info": {
      "name": "python"
    }
  },
  "cells": [
    {
      "cell_type": "markdown",
      "metadata": {
        "id": "view-in-github",
        "colab_type": "text"
      },
      "source": [
        "<a href=\"https://colab.research.google.com/github/pGaldino25/projeto_imersao_ia_alura/blob/pGaldino25%2Fmain/my_first_LLM.ipynb\" target=\"_parent\"><img src=\"https://colab.research.google.com/assets/colab-badge.svg\" alt=\"Open In Colab\"/></a>"
      ]
    },
    {
      "cell_type": "code",
      "execution_count": null,
      "metadata": {
        "id": "iz6GE681n-f9"
      },
      "outputs": [],
      "source": [
        "!pip install -q -U google-generativeai"
      ]
    },
    {
      "cell_type": "code",
      "source": [],
      "metadata": {
        "id": "p2GUQKUrn-9G"
      },
      "execution_count": null,
      "outputs": []
    },
    {
      "cell_type": "code",
      "source": [
        "import google.generativeai as genai\n",
        "import textwrap\n",
        "from google.colab import userdata\n",
        "from openpyxl import load_workbook\n",
        "from IPython.display import display, Markdown\n",
        "from google.generativeai import generate_text\n",
        "\n",
        "class FinancialAssistant:\n",
        "    def __init__(self):\n",
        "        self.GOOGLE_API_KEY = userdata.get('projeto_alura')\n",
        "        genai.configure(api_key=self.GOOGLE_API_KEY)\n",
        "        self.workbook = None\n",
        "        self.data = []\n",
        "        self.model = None\n",
        "\n",
        "    def load_workbook(self, filename):\n",
        "        try:\n",
        "            self.workbook = load_workbook(filename=filename)\n",
        "            print(\"Planilha carregada com sucesso.\")\n",
        "        except Exception as e:\n",
        "            print(\"Por favor inclua a planilha para análise\")\n",
        "            self.workbook = None\n",
        "\n",
        "    def extract_data(self):\n",
        "        if self.workbook:\n",
        "            sheet = self.workbook.active\n",
        "            for row in sheet.iter_rows():\n",
        "                row_data = [cell.value for cell in row]\n",
        "                self.data.append(row_data)\n",
        "            print(\"Dados extraídos da planilha com sucesso.\")\n",
        "        else:\n",
        "            print(\"Nenhuma planilha carregada para extrair dados.\")\n",
        "\n",
        "    def convert_data_to_text(self):\n",
        "        return \"\\n\".join([\",\".join(str(cell) for cell in row) for row in self.data])\n",
        "\n",
        "    def to_markdown(self, text):\n",
        "        text = text.replace('•', '  *')\n",
        "        return Markdown(textwrap.indent(text, '> ', predicate=lambda _: True))\n",
        "\n",
        "    def ask_questions(self):\n",
        "        questions = [\n",
        "            'Quais são seus objetivos financeiros? ',\n",
        "            'Você considera algum gasto essencial e inegociável? Por exemplo, plano de saúde: ',\n",
        "            'Como você se sente com seus gastos em cada categoria? Tem alguma que te deixa particularmente preocupado(a)? ',\n",
        "            'Gostaria de focar em economizar em alguma área específica? Habitação, lazer, cartões? '\n",
        "        ]\n",
        "\n",
        "        answers = []\n",
        "        for question in questions:\n",
        "            answer = input(question)\n",
        "            answers.append(answer)\n",
        "        return answers\n",
        "\n",
        "    def configure_model(self):\n",
        "        generation_config = {\n",
        "            \"candidate_count\": 1,\n",
        "            \"temperature\": 0.5,\n",
        "        }\n",
        "\n",
        "        safety_settings = {\n",
        "            \"HARASSMENT\": \"BLOCK_NONE\",\n",
        "            \"HATE\": \"BLOCK_NONE\",\n",
        "            \"SEXUAL\": \"BLOCK_NONE\",\n",
        "            \"DANGEROUS\": \"BLOCK_NONE\"\n",
        "        }\n",
        "\n",
        "        self.model = genai.GenerativeModel(\n",
        "            model_name='gemini-1.5-pro-latest',\n",
        "            generation_config=generation_config,\n",
        "            safety_settings=safety_settings\n",
        "        )\n",
        "\n",
        "    def generate_response(self, text_data, prompts):\n",
        "        prompt = f'''\n",
        "        Tenho essa planilha de orçamento financeiro familiar,\n",
        "        Me indique onde eu estou gastando muito dinheiro e\n",
        "        me dê sugestões de como melhorar e economizar dinheiro.\n",
        "        Objetivos financeiros: {prompts[0]}.\n",
        "        Gasto essencial e inegociável: {prompts[1]}.\n",
        "        Tenho o seguinte sentimento com gastos na categoria: {prompts[2]}.\n",
        "        Gostaria de focar em economizar na área: {prompts[3]}'''\n",
        "\n",
        "        contents = [text_data, prompt]\n",
        "        response = self.model.generate_content(contents)\n",
        "        return response.text\n",
        "\n",
        "    def run(self, filename):\n",
        "        self.load_workbook(filename)\n",
        "        if self.workbook:\n",
        "            self.extract_data()\n",
        "            text_data = self.convert_data_to_text()\n",
        "            self.configure_model()\n",
        "            prompts = self.ask_questions()\n",
        "            response_text = self.generate_response(text_data, prompts)\n",
        "            display(self.to_markdown(response_text))\n",
        "        else:\n",
        "            print(\"Finalizando...\")\n",
        "\n",
        "if __name__ == \"__main__\":\n",
        "    assistant = FinancialAssistant()\n",
        "    assistant.run(\"/content/Planilha_Controle_Orcamento.xlsx\")\n"
      ],
      "metadata": {
        "id": "Q_bSWvA8pFMA",
        "colab": {
          "base_uri": "https://localhost:8080/",
          "height": 1000
        },
        "outputId": "5662382a-badc-4d00-f863-406235abfde9"
      },
      "execution_count": 2,
      "outputs": [
        {
          "output_type": "stream",
          "name": "stderr",
          "text": [
            "/usr/local/lib/python3.10/dist-packages/openpyxl/packaging/custom.py:212: UserWarning: Unknown type for _EmailSubject\n",
            "  warn(f\"Unknown type for {prop.name}\")\n",
            "/usr/local/lib/python3.10/dist-packages/openpyxl/packaging/custom.py:212: UserWarning: Unknown type for _AuthorEmail\n",
            "  warn(f\"Unknown type for {prop.name}\")\n",
            "/usr/local/lib/python3.10/dist-packages/openpyxl/packaging/custom.py:212: UserWarning: Unknown type for _AuthorEmailDisplayName\n",
            "  warn(f\"Unknown type for {prop.name}\")\n",
            "/usr/local/lib/python3.10/dist-packages/openpyxl/packaging/custom.py:212: UserWarning: Unknown type for _ReviewingToolsShownOnce\n",
            "  warn(f\"Unknown type for {prop.name}\")\n"
          ]
        },
        {
          "name": "stdout",
          "output_type": "stream",
          "text": [
            "Planilha carregada com sucesso.\n",
            "Dados extraídos da planilha com sucesso.\n",
            "Quais são seus objetivos financeiros? Comprar uma BMW \n",
            "Você considera algum gasto essencial e inegociável? Por exemplo, plano de saúde: Saúde\n",
            "Como você se sente com seus gastos em cada categoria? Tem alguma que te deixa particularmente preocupado(a)? PReocupado\n",
            "Gostaria de focar em economizar em alguma área específica? Habitação, lazer, cartões? Cartões\n"
          ]
        },
        {
          "output_type": "display_data",
          "data": {
            "text/plain": [
              "<IPython.core.display.Markdown object>"
            ],
            "text/markdown": "> ## Análise do seu Orçamento Familiar e Sugestões para Economia:\n> \n> Observando sua planilha, podemos destacar alguns pontos:\n> \n> **Onde você está gastando muito dinheiro:**\n> \n> * **Cartões:** Sua preocupação com os gastos em cartões é justificada. Em Janeiro, por exemplo, você gastou R$2.834 em cartões, representando um alto percentual da sua renda. É fundamental analisar os gastos em cada cartão, identificando quais despesas podem ser reduzidas ou eliminadas.\n> * **Contas extras:**  As contas extras também representam um valor significativo, com picos em Janeiro (R$1.920) e Março (R$1.300).  Acompanhar de perto esses gastos e buscar alternativas mais econômicas é crucial.\n> \n> **Sugestões para melhorar e economizar dinheiro:**\n> \n> **Cartões:**\n> \n> * **Analise detalhadamente os gastos em cada cartão:** Identifique quais despesas são supérfluas e podem ser cortadas, como assinaturas de serviços que você não utiliza, compras por impulso, etc.\n> * **Negocie as taxas de juros:** Entre em contato com as operadoras dos seus cartões e tente negociar taxas de juros mais baixas, especialmente se você costuma utilizar o crédito rotativo.\n> * **Consolide suas dívidas:** Se você possui dívidas em vários cartões, considere a possibilidade de consolidá-las em um único cartão com juros mais baixos, facilitando o pagamento e controle.\n> * **Evite o crédito rotativo:** Os juros do crédito rotativo são altíssimos e podem gerar uma bola de neve. Utilize-o somente em último caso e quite o valor total da fatura o mais rápido possível.\n> * **Priorize o pagamento à vista:**  Utilize o cartão de crédito como ferramenta de pagamento, mas priorize o pagamento à vista para evitar o acúmulo de dívidas e juros.\n> \n> **Contas Extras:**\n> \n> * **Renegociação de dívidas:**  Verifique a possibilidade de renegociar as dívidas, como o Empréstimo Caixa, buscando prazos e taxas de juros mais favoráveis.\n> * **Planejamento de grandes despesas:** Se possível, planeje as grandes despesas, como o conserto do carro, para que você possa se preparar financeiramente e evitar comprometer seu orçamento.\n> * **Controle rigoroso:** Mantenha um controle rigoroso de todas as suas contas extras, anotando cada gasto para identificar áreas de possível economia.\n> \n> **Outras sugestões:**\n> \n> * **Crie um orçamento detalhado:** Anote todas as suas receitas e despesas, categorizando seus gastos para ter uma visão clara de para onde seu dinheiro está indo.\n> * **Defina metas de economia:**  Estabeleça metas realistas de economia para cada mês, direcionando o dinheiro economizado para seu objetivo de comprar a BMW.\n> * **Busque alternativas mais econômicas:**  Avalie seus gastos em todas as categorias e busque alternativas mais econômicas, como cozinhar mais em casa ao invés de pedir comida, utilizar transporte público ou bicicleta, etc.\n> * **Acompanhe seu progresso:**  Revise seu orçamento periodicamente para verificar se você está cumprindo suas metas de economia e fazer ajustes, se necessário.\n> * **Automatize suas economias:**  Configure transferências automáticas para uma conta poupança ou investimento, garantindo que você economize dinheiro de forma consistente.\n> * **Invista seu dinheiro:**  Para alcançar seu objetivo de comprar a BMW mais rápido, considere investir seu dinheiro em aplicações que ofereçam rentabilidade, como Tesouro Direto, CDBs, etc.\n> \n> **Lembre-se:**  Economizar dinheiro exige disciplina e planejamento. Ao adotar as sugestões acima, você poderá ter um maior controle sobre suas finanças, reduzir seus gastos e alcançar seus objetivos financeiros mais rapidamente. \n> \n> **Importante:**  Embora você tenha mencionado que saúde é um gasto essencial e inegociável, é importante buscar alternativas para otimizar esses gastos, como comparar preços de planos de saúde, pesquisar opções de genéricos para medicamentos, etc."
          },
          "metadata": {}
        }
      ]
    },
    {
      "cell_type": "code",
      "source": [],
      "metadata": {
        "id": "U_aIKqE8u5DG"
      },
      "execution_count": null,
      "outputs": []
    }
  ]
}