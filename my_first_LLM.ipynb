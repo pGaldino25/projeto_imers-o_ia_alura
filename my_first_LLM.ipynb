{
  "nbformat": 4,
  "nbformat_minor": 0,
  "metadata": {
    "colab": {
      "provenance": [],
      "authorship_tag": "ABX9TyMYeX7Kge5Bgb5xwwY3JVKw",
      "include_colab_link": true
    },
    "kernelspec": {
      "name": "python3",
      "display_name": "Python 3"
    },
    "language_info": {
      "name": "python"
    }
  },
  "cells": [
    {
      "cell_type": "markdown",
      "metadata": {
        "id": "view-in-github",
        "colab_type": "text"
      },
      "source": [
        "<a href=\"https://colab.research.google.com/github/pGaldino25/projeto_imersao_ia_alura/blob/pGaldino25%2Fmain/my_first_LLM.ipynb\" target=\"_parent\"><img src=\"https://colab.research.google.com/assets/colab-badge.svg\" alt=\"Open In Colab\"/></a>"
      ]
    },
    {
      "cell_type": "code",
      "execution_count": 22,
      "metadata": {
        "id": "iz6GE681n-f9"
      },
      "outputs": [],
      "source": [
        "!pip install -q -U google-generativeai"
      ]
    },
    {
      "cell_type": "code",
      "source": [
        "# Import the Python SDK\n",
        "import google.generativeai as genai\n",
        "# Used to securely store your API key\n",
        "from google.colab import userdata\n",
        "\n",
        "GOOGLE_API_KEY=userdata.get('projeto_alura')\n",
        "genai.configure(api_key=GOOGLE_API_KEY)"
      ],
      "metadata": {
        "id": "p2GUQKUrn-9G"
      },
      "execution_count": 20,
      "outputs": []
    },
    {
      "cell_type": "code",
      "source": [
        "import textwrap\n",
        "\n",
        "from openpyxl import load_workbook\n",
        "from IPython.display import display\n",
        "from IPython.display import Markdown\n",
        "from google.generativeai import generate_text\n",
        "\n",
        "# Carregue o arquivo .xlsx\n",
        "workbook = load_workbook(filename=\"/content/Planilha_Controle_Orcamento.xlsx\")\n",
        "\n",
        "# Selecione a planilha desejada\n",
        "sheet = workbook.active\n",
        "\n",
        "# Extraia os dados da planilha\n",
        "data = []\n",
        "for row in sheet.iter_rows():\n",
        "    row_data = [cell.value for cell in row]\n",
        "    data.append(row_data)\n",
        "\n",
        "# Converta os dados em texto\n",
        "text_data = \"\\n\".join([\",\".join(str(cell) for cell in row) for row in data])\n",
        "\n",
        "generation_config = {\n",
        "    \"candidate_count\": 1,\n",
        "    \"temperature\": 0.5,\n",
        "}\n",
        "\n",
        "safety_settings = {\n",
        "    \"HARASSMENT\": \"BLOCK_NONE\",\n",
        "    \"HATE\": \"BLOCK_NONE\",\n",
        "    \"SEXUAL\": \"BLOCK_NONE\",\n",
        "    \"DANGEROUS\": \"BLOCK_NONE\"\n",
        "}\n",
        "\n",
        "model = genai.GenerativeModel(model_name='gemini-1.5-pro-latest',\n",
        "                              generation_config=generation_config,\n",
        "                              safety_settings=safety_settings)\n",
        "\n",
        "\n",
        "\n",
        "perguntas = [\n",
        "    'Quais são seus objetivos financeiros? ',\n",
        "    'Você considera algum gasto essencial e inegociável? Por exemplo, plano de saúde: ',\n",
        "    'Como você se sente com seus gastos em cada categoria? Tem alguma que te deixa particularmente preocupado(a)? ',\n",
        "    'Gostaria de focar em economizar em alguma área específica? Habitação, lazer, cartões? '\n",
        "]\n",
        "\n",
        "respostas = []\n",
        "\n",
        "for pergunta in perguntas:\n",
        "    resposta = input(pergunta)\n",
        "    respostas.append(resposta)\n",
        "\n",
        "prmpt1, prmpt2, prmpt3, prmpt4 = respostas\n",
        "\n",
        "prompt = f'''\n",
        "Tenho essa planilha de orçamento financeiro familiar,\n",
        "Me indique onde eu estou gastando muito dinheiro e\n",
        "me dê sugestões de como melhorar e economizar dinheiro.\n",
        "Objetivos financeiros: {prmpt1}.\n",
        "Gasto essencial e inegociável: {prmpt2}.\n",
        "Tenho o seguinte sentimento com gastos na categoria: {prmpt3}.\n",
        "Gostaria de focar em economizar na área: {prmpt4}'''\n",
        "contents = [text_data, prompt]\n",
        "# Imprima a resposta do modelo\n",
        "response = model.generate_content(contents)\n",
        "\n",
        "def to_markdown(text):\n",
        "  text = text.replace('•', '  *')\n",
        "  return Markdown(textwrap.indent(text, '> ', predicate=lambda _: True))\n",
        "\n",
        "display(to_markdown(response.text))"
      ],
      "metadata": {
        "id": "Q_bSWvA8pFMA"
      },
      "execution_count": null,
      "outputs": []
    },
    {
      "cell_type": "code",
      "source": [],
      "metadata": {
        "id": "U_aIKqE8u5DG"
      },
      "execution_count": null,
      "outputs": []
    }
  ]
}
